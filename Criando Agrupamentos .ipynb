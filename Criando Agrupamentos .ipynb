{
 "cells": [
  {
   "cell_type": "markdown",
   "id": "6cbe1b71",
   "metadata": {},
   "source": [
    "# Relatório de análise VII"
   ]
  },
  {
   "cell_type": "markdown",
   "id": "ed4227b0",
   "metadata": {},
   "source": [
    "## Criando Agrupamento"
   ]
  },
  {
   "cell_type": "code",
   "execution_count": 63,
   "id": "c3590ee0",
   "metadata": {},
   "outputs": [],
   "source": [
    "import pandas as pd"
   ]
  },
  {
   "cell_type": "code",
   "execution_count": 64,
   "id": "bde56afb",
   "metadata": {},
   "outputs": [],
   "source": [
    "dados = pd.read_csv('Dados/aluguel.csv', sep = ';')"
   ]
  },
  {
   "cell_type": "code",
   "execution_count": 65,
   "id": "26e0ff6d",
   "metadata": {},
   "outputs": [
    {
     "data": {
      "text/html": [
       "<div>\n",
       "<style scoped>\n",
       "    .dataframe tbody tr th:only-of-type {\n",
       "        vertical-align: middle;\n",
       "    }\n",
       "\n",
       "    .dataframe tbody tr th {\n",
       "        vertical-align: top;\n",
       "    }\n",
       "\n",
       "    .dataframe thead th {\n",
       "        text-align: right;\n",
       "    }\n",
       "</style>\n",
       "<table border=\"1\" class=\"dataframe\">\n",
       "  <thead>\n",
       "    <tr style=\"text-align: right;\">\n",
       "      <th></th>\n",
       "      <th>Tipo</th>\n",
       "      <th>Bairro</th>\n",
       "      <th>Quartos</th>\n",
       "      <th>Vagas</th>\n",
       "      <th>Suites</th>\n",
       "      <th>Area</th>\n",
       "      <th>Valor</th>\n",
       "      <th>Condominio</th>\n",
       "      <th>IPTU</th>\n",
       "    </tr>\n",
       "  </thead>\n",
       "  <tbody>\n",
       "    <tr>\n",
       "      <th>0</th>\n",
       "      <td>Quitinete</td>\n",
       "      <td>Copacabana</td>\n",
       "      <td>1</td>\n",
       "      <td>0</td>\n",
       "      <td>0</td>\n",
       "      <td>40</td>\n",
       "      <td>1700.0</td>\n",
       "      <td>500.0</td>\n",
       "      <td>60.0</td>\n",
       "    </tr>\n",
       "    <tr>\n",
       "      <th>1</th>\n",
       "      <td>Casa</td>\n",
       "      <td>Jardim Botânico</td>\n",
       "      <td>2</td>\n",
       "      <td>0</td>\n",
       "      <td>1</td>\n",
       "      <td>100</td>\n",
       "      <td>7000.0</td>\n",
       "      <td>NaN</td>\n",
       "      <td>NaN</td>\n",
       "    </tr>\n",
       "    <tr>\n",
       "      <th>2</th>\n",
       "      <td>Conjunto Comercial/Sala</td>\n",
       "      <td>Barra da Tijuca</td>\n",
       "      <td>0</td>\n",
       "      <td>4</td>\n",
       "      <td>0</td>\n",
       "      <td>150</td>\n",
       "      <td>5200.0</td>\n",
       "      <td>4020.0</td>\n",
       "      <td>1111.0</td>\n",
       "    </tr>\n",
       "    <tr>\n",
       "      <th>3</th>\n",
       "      <td>Apartamento</td>\n",
       "      <td>Centro</td>\n",
       "      <td>1</td>\n",
       "      <td>0</td>\n",
       "      <td>0</td>\n",
       "      <td>15</td>\n",
       "      <td>800.0</td>\n",
       "      <td>390.0</td>\n",
       "      <td>20.0</td>\n",
       "    </tr>\n",
       "    <tr>\n",
       "      <th>4</th>\n",
       "      <td>Apartamento</td>\n",
       "      <td>Higienópolis</td>\n",
       "      <td>1</td>\n",
       "      <td>0</td>\n",
       "      <td>0</td>\n",
       "      <td>48</td>\n",
       "      <td>800.0</td>\n",
       "      <td>230.0</td>\n",
       "      <td>NaN</td>\n",
       "    </tr>\n",
       "    <tr>\n",
       "      <th>5</th>\n",
       "      <td>Apartamento</td>\n",
       "      <td>Vista Alegre</td>\n",
       "      <td>3</td>\n",
       "      <td>1</td>\n",
       "      <td>0</td>\n",
       "      <td>70</td>\n",
       "      <td>1200.0</td>\n",
       "      <td>NaN</td>\n",
       "      <td>NaN</td>\n",
       "    </tr>\n",
       "    <tr>\n",
       "      <th>6</th>\n",
       "      <td>Apartamento</td>\n",
       "      <td>Cachambi</td>\n",
       "      <td>2</td>\n",
       "      <td>0</td>\n",
       "      <td>0</td>\n",
       "      <td>50</td>\n",
       "      <td>1300.0</td>\n",
       "      <td>301.0</td>\n",
       "      <td>17.0</td>\n",
       "    </tr>\n",
       "    <tr>\n",
       "      <th>7</th>\n",
       "      <td>Casa de Condomínio</td>\n",
       "      <td>Barra da Tijuca</td>\n",
       "      <td>5</td>\n",
       "      <td>4</td>\n",
       "      <td>5</td>\n",
       "      <td>750</td>\n",
       "      <td>22000.0</td>\n",
       "      <td>NaN</td>\n",
       "      <td>NaN</td>\n",
       "    </tr>\n",
       "    <tr>\n",
       "      <th>8</th>\n",
       "      <td>Casa de Condomínio</td>\n",
       "      <td>Ramos</td>\n",
       "      <td>2</td>\n",
       "      <td>2</td>\n",
       "      <td>0</td>\n",
       "      <td>65</td>\n",
       "      <td>1000.0</td>\n",
       "      <td>NaN</td>\n",
       "      <td>NaN</td>\n",
       "    </tr>\n",
       "    <tr>\n",
       "      <th>9</th>\n",
       "      <td>Conjunto Comercial/Sala</td>\n",
       "      <td>Centro</td>\n",
       "      <td>0</td>\n",
       "      <td>3</td>\n",
       "      <td>0</td>\n",
       "      <td>695</td>\n",
       "      <td>35000.0</td>\n",
       "      <td>19193.0</td>\n",
       "      <td>3030.0</td>\n",
       "    </tr>\n",
       "  </tbody>\n",
       "</table>\n",
       "</div>"
      ],
      "text/plain": [
       "                      Tipo           Bairro  Quartos  Vagas  Suites  Area  \\\n",
       "0                Quitinete       Copacabana        1      0       0    40   \n",
       "1                     Casa  Jardim Botânico        2      0       1   100   \n",
       "2  Conjunto Comercial/Sala  Barra da Tijuca        0      4       0   150   \n",
       "3              Apartamento           Centro        1      0       0    15   \n",
       "4              Apartamento     Higienópolis        1      0       0    48   \n",
       "5              Apartamento     Vista Alegre        3      1       0    70   \n",
       "6              Apartamento         Cachambi        2      0       0    50   \n",
       "7       Casa de Condomínio  Barra da Tijuca        5      4       5   750   \n",
       "8       Casa de Condomínio            Ramos        2      2       0    65   \n",
       "9  Conjunto Comercial/Sala           Centro        0      3       0   695   \n",
       "\n",
       "     Valor  Condominio    IPTU  \n",
       "0   1700.0       500.0    60.0  \n",
       "1   7000.0         NaN     NaN  \n",
       "2   5200.0      4020.0  1111.0  \n",
       "3    800.0       390.0    20.0  \n",
       "4    800.0       230.0     NaN  \n",
       "5   1200.0         NaN     NaN  \n",
       "6   1300.0       301.0    17.0  \n",
       "7  22000.0         NaN     NaN  \n",
       "8   1000.0         NaN     NaN  \n",
       "9  35000.0     19193.0  3030.0  "
      ]
     },
     "execution_count": 65,
     "metadata": {},
     "output_type": "execute_result"
    }
   ],
   "source": [
    "dados.head(10)"
   ]
  },
  {
   "cell_type": "code",
   "execution_count": 66,
   "id": "3cc37b43",
   "metadata": {},
   "outputs": [
    {
     "data": {
      "text/plain": [
       "array(['Copacabana', 'Jardim Botânico', 'Barra da Tijuca', 'Centro',\n",
       "       'Higienópolis', 'Vista Alegre', 'Cachambi', 'Ramos', 'Grajaú',\n",
       "       'Lins de Vasconcelos', 'Botafogo', 'Taquara',\n",
       "       'Freguesia (Jacarepaguá)', 'Tijuca', 'Olaria', 'Leblon',\n",
       "       'São Cristóvão', 'Ipanema', 'Campo Grande',\n",
       "       'Recreio dos Bandeirantes', 'Jardim Oceânico', 'Humaitá',\n",
       "       'Península', 'Méier', 'Vargem Pequena', 'Maracanã', 'Jacarepaguá',\n",
       "       'Vargem Grande', 'São Conrado', 'Maria da Graça', 'Vila Valqueire',\n",
       "       'Gávea', 'Cosme Velho', 'Bonsucesso', 'Todos os Santos',\n",
       "       'Laranjeiras', 'Itanhangá', 'Flamengo', 'Praça Seca', 'Piedade',\n",
       "       'Lagoa', 'Santo Cristo', 'Largo do Machado', 'Catete',\n",
       "       'Jardim Carioca', 'Benfica', 'Glória', 'Vila Isabel',\n",
       "       'Quintino Bocaiúva', 'São Francisco Xavier', 'Rocha Miranda',\n",
       "       'Engenho Novo', 'Engenho de Dentro', 'Cidade Nova', 'Pilares',\n",
       "       'Arpoador', 'Tomás Coelho', 'Água Santa', 'Ilha do Governador',\n",
       "       'Jardim Sulacap', 'Del Castilho', 'Oswaldo Cruz', 'Vila da Penha',\n",
       "       'Anil', 'Tanque', 'Vaz Lobo', 'Madureira', 'Pechincha', 'Leme',\n",
       "       'Irajá', 'Andaraí', 'Cordovil', 'Urca', 'Penha', 'Vigário Geral',\n",
       "       'Gardênia Azul', 'Santa Cruz', 'Rio Comprido', 'Santa Teresa',\n",
       "       'Inhaúma', 'Marechal Hermes', 'Pavuna', 'Curicica', 'Santíssimo',\n",
       "       'Moneró', 'Jardim Guanabara', 'Vila Militar', 'Camorim',\n",
       "       'Cascadura', 'Manguinhos', 'Praia da Bandeira', 'Saúde', 'Joá',\n",
       "       'Gamboa', 'Bangu', 'Colégio', 'Guadalupe', 'Realengo', 'Fátima',\n",
       "       'Inhoaíba', 'Rocha', 'Jabour', 'Parada de Lucas', 'Braz de Pina',\n",
       "       'Vila Kosmos', 'Vicente de Carvalho', 'Praça da Bandeira',\n",
       "       'Encantado', 'Campinho', 'Penha Circular',\n",
       "       'Ricardo de Albuquerque', 'Guaratiba', 'Lapa', 'Riachuelo',\n",
       "       'Portuguesa', 'Catumbi', 'Castelo', 'Parque Anchieta', 'Abolição',\n",
       "       'Caju', 'Alto da Boa Vista', 'Bento Ribeiro', 'Estácio',\n",
       "       'Jardim América', 'Paciência', 'Pedra de Guaratiba',\n",
       "       'Padre Miguel', 'Zumbi', 'Sampaio', 'Anchieta', 'Tauá', 'Icaraí',\n",
       "       'Cinelândia', 'Senador Vasconcelos', 'Barra de Guaratiba',\n",
       "       'Paquetá', 'Senador Camará', 'Turiaçu',\n",
       "       'Freguesia (Ilha do Governador)', 'Honório Gurgel', 'Cosmos',\n",
       "       'Pitangueiras', 'Vidigal', 'Usina', 'Cacuia', 'Ribeira', 'Jacaré',\n",
       "       'Cocotá', 'Engenho da Rainha', 'Cachamorra', 'Itaguaí',\n",
       "       'Cavalcanti', 'Cidade de Deus', 'Magalhães Bastos', 'Coelho Neto',\n",
       "       'Vasco da Gama', 'Bancários', 'Rio da Prata', 'Cidade Jardim',\n",
       "       'Parque Colúmbia', 'Grumari', 'Sepetiba'], dtype=object)"
      ]
     },
     "execution_count": 66,
     "metadata": {},
     "output_type": "execute_result"
    }
   ],
   "source": [
    "dados.Bairro.unique()"
   ]
  },
  {
   "cell_type": "code",
   "execution_count": 67,
   "id": "fbdc83e2",
   "metadata": {},
   "outputs": [
    {
     "data": {
      "text/plain": [
       "12952.659715265761"
      ]
     },
     "execution_count": 67,
     "metadata": {},
     "output_type": "execute_result"
    }
   ],
   "source": [
    "dados['Valor'].mean()"
   ]
  },
  {
   "cell_type": "code",
   "execution_count": 68,
   "id": "8df5f9c3",
   "metadata": {},
   "outputs": [],
   "source": [
    "bairros = ['Copacabana', 'Jardim Botânico', 'Barra da Tijuca', 'Centro','Higienópolis']\n",
    "selecao = dados['Bairro'].isin(bairros)\n",
    "dados = dados[selecao]"
   ]
  },
  {
   "cell_type": "code",
   "execution_count": 69,
   "id": "a87e4776",
   "metadata": {},
   "outputs": [
    {
     "data": {
      "text/plain": [
       "0         Copacabana\n",
       "1    Jardim Botânico\n",
       "2    Barra da Tijuca\n",
       "3             Centro\n",
       "4       Higienópolis\n",
       "Name: Bairro, dtype: object"
      ]
     },
     "execution_count": 69,
     "metadata": {},
     "output_type": "execute_result"
    }
   ],
   "source": [
    "dados['Bairro'].drop_duplicates()"
   ]
  },
  {
   "cell_type": "code",
   "execution_count": 70,
   "id": "19a3730d",
   "metadata": {},
   "outputs": [],
   "source": [
    "grupo_bairro = dados.groupby('Bairro')"
   ]
  },
  {
   "cell_type": "code",
   "execution_count": 71,
   "id": "aef07856",
   "metadata": {},
   "outputs": [
    {
     "data": {
      "text/plain": [
       "pandas.core.groupby.generic.DataFrameGroupBy"
      ]
     },
     "execution_count": 71,
     "metadata": {},
     "output_type": "execute_result"
    }
   ],
   "source": [
    "type(grupo_bairro)"
   ]
  },
  {
   "cell_type": "code",
   "execution_count": 72,
   "id": "7433e66a",
   "metadata": {},
   "outputs": [
    {
     "data": {
      "text/plain": [
       "{'Barra da Tijuca': [2, 7, 20, 22, 30, 35, 41, 44, 49, 59, 60, 76, 78, 81, 89, 90, 93, 97, 103, 104, 111, 112, 115, 134, 146, 155, 156, 157, 158, 159, 163, 165, 168, 172, 176, 179, 192, 194, 197, 199, 203, 225, 228, 230, 247, 248, 251, 255, 260, 261, 274, 277, 281, 306, 315, 325, 330, 332, 340, 347, 348, 354, 358, 364, 368, 374, 387, 390, 399, 401, 408, 416, 419, 434, 440, 441, 442, 444, 452, 455, 456, 465, 470, 471, 493, 499, 505, 509, 512, 513, 522, 530, 544, 546, 554, 558, 566, 573, 581, 583, ...], 'Centro': [3, 9, 10, 38, 45, 46, 52, 54, 72, 86, 87, 94, 100, 105, 108, 127, 128, 136, 144, 161, 174, 178, 186, 220, 239, 240, 241, 242, 252, 270, 278, 284, 286, 307, 319, 328, 333, 337, 338, 356, 373, 379, 380, 382, 393, 394, 404, 417, 437, 445, 454, 457, 462, 472, 478, 480, 500, 533, 562, 567, 579, 638, 657, 659, 683, 690, 693, 706, 712, 749, 752, 771, 790, 793, 803, 824, 852, 853, 859, 873, 879, 880, 903, 911, 922, 924, 930, 947, 950, 970, 972, 974, 976, 986, 990, 993, 995, 997, 1006, 1012, ...], 'Copacabana': [0, 13, 14, 15, 33, 34, 39, 43, 58, 123, 132, 152, 162, 189, 196, 209, 210, 213, 215, 219, 226, 243, 250, 262, 273, 285, 290, 303, 329, 371, 398, 418, 421, 426, 438, 439, 453, 464, 479, 484, 486, 496, 501, 525, 541, 553, 563, 564, 582, 596, 608, 636, 637, 644, 650, 653, 679, 682, 692, 724, 725, 726, 727, 742, 753, 791, 794, 799, 823, 837, 857, 858, 866, 875, 882, 885, 913, 917, 919, 925, 952, 954, 981, 1000, 1008, 1009, 1014, 1025, 1038, 1041, 1047, 1057, 1074, 1100, 1110, 1115, 1158, 1167, 1203, 1218, ...], 'Higienópolis': [4, 1136, 1445, 3170, 3288, 5122, 6001, 6663, 10823, 12171, 13009, 13136, 13813, 14955, 15939, 17125, 17332, 19844, 20071, 21519, 22782, 22983, 25630, 25713, 27315, 27919, 27989, 29056, 29272, 29389, 29458, 31696], 'Jardim Botânico': [1, 53, 75, 79, 468, 489, 529, 663, 664, 733, 737, 829, 851, 969, 1021, 1216, 1407, 1474, 1760, 1801, 2021, 2057, 2232, 2691, 2841, 2859, 3097, 3113, 3172, 3202, 3268, 3394, 3659, 3768, 3816, 3821, 3928, 4106, 4135, 4165, 4178, 4236, 4243, 4299, 4304, 4903, 5150, 5305, 5316, 5325, 5482, 5561, 5729, 5771, 5798, 6088, 6211, 6240, 6245, 6326, 6492, 6843, 6884, 6936, 7005, 7175, 7183, 7306, 7325, 7435, 7471, 7509, 7644, 7684, 7786, 7839, 7920, 7975, 8028, 8074, 8129, 8189, 8259, 8284, 8319, 8599, 8709, 8770, 8929, 8968, 9057, 9139, 9666, 9743, 9850, 9931, 9984, 10026, 10229, 10285, ...]}"
      ]
     },
     "execution_count": 72,
     "metadata": {},
     "output_type": "execute_result"
    }
   ],
   "source": [
    "grupo_bairro.groups"
   ]
  },
  {
   "cell_type": "code",
   "execution_count": 73,
   "id": "0e941f71",
   "metadata": {},
   "outputs": [
    {
     "name": "stdout",
     "output_type": "stream",
     "text": [
      "<class 'pandas.core.frame.DataFrame'>\n",
      "<class 'pandas.core.frame.DataFrame'>\n",
      "<class 'pandas.core.frame.DataFrame'>\n",
      "<class 'pandas.core.frame.DataFrame'>\n",
      "<class 'pandas.core.frame.DataFrame'>\n"
     ]
    }
   ],
   "source": [
    "for bairro, dados in grupo_bairro:\n",
    "    print(type(dados))"
   ]
  },
  {
   "cell_type": "code",
   "execution_count": 74,
   "id": "761c4d05",
   "metadata": {},
   "outputs": [
    {
     "name": "stdout",
     "output_type": "stream",
     "text": [
      "Barra da Tijuca -> 9019.593829923273\n",
      "Centro -> 19004.972375690606\n",
      "Copacabana -> 4509.83453689168\n",
      "Higienópolis -> 2525.0\n",
      "Jardim Botânico -> 8779.8\n"
     ]
    }
   ],
   "source": [
    "for bairro, data in grupo_bairro:\n",
    "    print('{} -> {}'.format(bairro, data.Valor.mean()))"
   ]
  },
  {
   "cell_type": "code",
   "execution_count": 75,
   "id": "c9d47325",
   "metadata": {},
   "outputs": [
    {
     "data": {
      "text/html": [
       "<div>\n",
       "<style scoped>\n",
       "    .dataframe tbody tr th:only-of-type {\n",
       "        vertical-align: middle;\n",
       "    }\n",
       "\n",
       "    .dataframe tbody tr th {\n",
       "        vertical-align: top;\n",
       "    }\n",
       "\n",
       "    .dataframe thead th {\n",
       "        text-align: right;\n",
       "    }\n",
       "</style>\n",
       "<table border=\"1\" class=\"dataframe\">\n",
       "  <thead>\n",
       "    <tr style=\"text-align: right;\">\n",
       "      <th></th>\n",
       "      <th>Valor</th>\n",
       "      <th>Condominio</th>\n",
       "    </tr>\n",
       "    <tr>\n",
       "      <th>Bairro</th>\n",
       "      <th></th>\n",
       "      <th></th>\n",
       "    </tr>\n",
       "  </thead>\n",
       "  <tbody>\n",
       "    <tr>\n",
       "      <th>Barra da Tijuca</th>\n",
       "      <td>9019.59</td>\n",
       "      <td>3599.17</td>\n",
       "    </tr>\n",
       "    <tr>\n",
       "      <th>Centro</th>\n",
       "      <td>19004.97</td>\n",
       "      <td>5247.40</td>\n",
       "    </tr>\n",
       "    <tr>\n",
       "      <th>Copacabana</th>\n",
       "      <td>4509.83</td>\n",
       "      <td>1211.94</td>\n",
       "    </tr>\n",
       "    <tr>\n",
       "      <th>Higienópolis</th>\n",
       "      <td>2525.00</td>\n",
       "      <td>212.00</td>\n",
       "    </tr>\n",
       "    <tr>\n",
       "      <th>Jardim Botânico</th>\n",
       "      <td>8779.80</td>\n",
       "      <td>1576.12</td>\n",
       "    </tr>\n",
       "  </tbody>\n",
       "</table>\n",
       "</div>"
      ],
      "text/plain": [
       "                    Valor  Condominio\n",
       "Bairro                               \n",
       "Barra da Tijuca   9019.59     3599.17\n",
       "Centro           19004.97     5247.40\n",
       "Copacabana        4509.83     1211.94\n",
       "Higienópolis      2525.00      212.00\n",
       "Jardim Botânico   8779.80     1576.12"
      ]
     },
     "execution_count": 75,
     "metadata": {},
     "output_type": "execute_result"
    }
   ],
   "source": [
    "grupo_bairro[['Valor','Condominio']].mean().round(2)"
   ]
  },
  {
   "cell_type": "markdown",
   "id": "a8a41085",
   "metadata": {},
   "source": [
    "## Estatísticas Descritivas"
   ]
  },
  {
   "cell_type": "code",
   "execution_count": 76,
   "id": "4567c457",
   "metadata": {},
   "outputs": [
    {
     "data": {
      "text/html": [
       "<div>\n",
       "<style scoped>\n",
       "    .dataframe tbody tr th:only-of-type {\n",
       "        vertical-align: middle;\n",
       "    }\n",
       "\n",
       "    .dataframe tbody tr th {\n",
       "        vertical-align: top;\n",
       "    }\n",
       "\n",
       "    .dataframe thead th {\n",
       "        text-align: right;\n",
       "    }\n",
       "</style>\n",
       "<table border=\"1\" class=\"dataframe\">\n",
       "  <thead>\n",
       "    <tr style=\"text-align: right;\">\n",
       "      <th></th>\n",
       "      <th>count</th>\n",
       "      <th>mean</th>\n",
       "      <th>std</th>\n",
       "      <th>min</th>\n",
       "      <th>25%</th>\n",
       "      <th>50%</th>\n",
       "      <th>75%</th>\n",
       "      <th>max</th>\n",
       "    </tr>\n",
       "    <tr>\n",
       "      <th>Bairro</th>\n",
       "      <th></th>\n",
       "      <th></th>\n",
       "      <th></th>\n",
       "      <th></th>\n",
       "      <th></th>\n",
       "      <th></th>\n",
       "      <th></th>\n",
       "      <th></th>\n",
       "    </tr>\n",
       "  </thead>\n",
       "  <tbody>\n",
       "    <tr>\n",
       "      <th>Barra da Tijuca</th>\n",
       "      <td>6256.0</td>\n",
       "      <td>9019.59</td>\n",
       "      <td>30192.24</td>\n",
       "      <td>100.0</td>\n",
       "      <td>2000.0</td>\n",
       "      <td>3500.0</td>\n",
       "      <td>8000.0</td>\n",
       "      <td>738197.0</td>\n",
       "    </tr>\n",
       "    <tr>\n",
       "      <th>Centro</th>\n",
       "      <td>3258.0</td>\n",
       "      <td>19004.97</td>\n",
       "      <td>59355.76</td>\n",
       "      <td>90.0</td>\n",
       "      <td>1000.0</td>\n",
       "      <td>3705.5</td>\n",
       "      <td>15000.0</td>\n",
       "      <td>950000.0</td>\n",
       "    </tr>\n",
       "    <tr>\n",
       "      <th>Copacabana</th>\n",
       "      <td>3185.0</td>\n",
       "      <td>4509.83</td>\n",
       "      <td>6413.41</td>\n",
       "      <td>100.0</td>\n",
       "      <td>1900.0</td>\n",
       "      <td>3000.0</td>\n",
       "      <td>4900.0</td>\n",
       "      <td>198000.0</td>\n",
       "    </tr>\n",
       "    <tr>\n",
       "      <th>Higienópolis</th>\n",
       "      <td>32.0</td>\n",
       "      <td>2525.00</td>\n",
       "      <td>3988.88</td>\n",
       "      <td>650.0</td>\n",
       "      <td>800.0</td>\n",
       "      <td>1025.0</td>\n",
       "      <td>1600.0</td>\n",
       "      <td>20000.0</td>\n",
       "    </tr>\n",
       "    <tr>\n",
       "      <th>Jardim Botânico</th>\n",
       "      <td>350.0</td>\n",
       "      <td>8779.80</td>\n",
       "      <td>11680.25</td>\n",
       "      <td>1100.0</td>\n",
       "      <td>3000.0</td>\n",
       "      <td>4000.0</td>\n",
       "      <td>9425.0</td>\n",
       "      <td>120000.0</td>\n",
       "    </tr>\n",
       "  </tbody>\n",
       "</table>\n",
       "</div>"
      ],
      "text/plain": [
       "                  count      mean       std     min     25%     50%      75%  \\\n",
       "Bairro                                                                         \n",
       "Barra da Tijuca  6256.0   9019.59  30192.24   100.0  2000.0  3500.0   8000.0   \n",
       "Centro           3258.0  19004.97  59355.76    90.0  1000.0  3705.5  15000.0   \n",
       "Copacabana       3185.0   4509.83   6413.41   100.0  1900.0  3000.0   4900.0   \n",
       "Higienópolis       32.0   2525.00   3988.88   650.0   800.0  1025.0   1600.0   \n",
       "Jardim Botânico   350.0   8779.80  11680.25  1100.0  3000.0  4000.0   9425.0   \n",
       "\n",
       "                      max  \n",
       "Bairro                     \n",
       "Barra da Tijuca  738197.0  \n",
       "Centro           950000.0  \n",
       "Copacabana       198000.0  \n",
       "Higienópolis      20000.0  \n",
       "Jardim Botânico  120000.0  "
      ]
     },
     "execution_count": 76,
     "metadata": {},
     "output_type": "execute_result"
    }
   ],
   "source": [
    "grupo_bairro['Valor'].describe().round(2)"
   ]
  },
  {
   "cell_type": "code",
   "execution_count": 77,
   "id": "74eac638",
   "metadata": {},
   "outputs": [
    {
     "data": {
      "text/html": [
       "<div>\n",
       "<style scoped>\n",
       "    .dataframe tbody tr th:only-of-type {\n",
       "        vertical-align: middle;\n",
       "    }\n",
       "\n",
       "    .dataframe tbody tr th {\n",
       "        vertical-align: top;\n",
       "    }\n",
       "\n",
       "    .dataframe thead th {\n",
       "        text-align: right;\n",
       "    }\n",
       "</style>\n",
       "<table border=\"1\" class=\"dataframe\">\n",
       "  <thead>\n",
       "    <tr style=\"text-align: right;\">\n",
       "      <th></th>\n",
       "      <th>min</th>\n",
       "      <th>max</th>\n",
       "      <th>sum</th>\n",
       "    </tr>\n",
       "    <tr>\n",
       "      <th>Bairro</th>\n",
       "      <th></th>\n",
       "      <th></th>\n",
       "      <th></th>\n",
       "    </tr>\n",
       "  </thead>\n",
       "  <tbody>\n",
       "    <tr>\n",
       "      <th>Barra da Tijuca</th>\n",
       "      <td>100.0</td>\n",
       "      <td>738197.0</td>\n",
       "      <td>56426579.0</td>\n",
       "    </tr>\n",
       "    <tr>\n",
       "      <th>Centro</th>\n",
       "      <td>90.0</td>\n",
       "      <td>950000.0</td>\n",
       "      <td>61918200.0</td>\n",
       "    </tr>\n",
       "    <tr>\n",
       "      <th>Copacabana</th>\n",
       "      <td>100.0</td>\n",
       "      <td>198000.0</td>\n",
       "      <td>14363823.0</td>\n",
       "    </tr>\n",
       "    <tr>\n",
       "      <th>Higienópolis</th>\n",
       "      <td>650.0</td>\n",
       "      <td>20000.0</td>\n",
       "      <td>80800.0</td>\n",
       "    </tr>\n",
       "    <tr>\n",
       "      <th>Jardim Botânico</th>\n",
       "      <td>1100.0</td>\n",
       "      <td>120000.0</td>\n",
       "      <td>3072930.0</td>\n",
       "    </tr>\n",
       "  </tbody>\n",
       "</table>\n",
       "</div>"
      ],
      "text/plain": [
       "                    min       max         sum\n",
       "Bairro                                       \n",
       "Barra da Tijuca   100.0  738197.0  56426579.0\n",
       "Centro             90.0  950000.0  61918200.0\n",
       "Copacabana        100.0  198000.0  14363823.0\n",
       "Higienópolis      650.0   20000.0     80800.0\n",
       "Jardim Botânico  1100.0  120000.0   3072930.0"
      ]
     },
     "execution_count": 77,
     "metadata": {},
     "output_type": "execute_result"
    }
   ],
   "source": [
    "grupo_bairro['Valor'].aggregate(['min', 'max', 'sum'])"
   ]
  },
  {
   "cell_type": "code",
   "execution_count": 78,
   "id": "74c7fcbd",
   "metadata": {},
   "outputs": [
    {
     "data": {
      "text/html": [
       "<div>\n",
       "<style scoped>\n",
       "    .dataframe tbody tr th:only-of-type {\n",
       "        vertical-align: middle;\n",
       "    }\n",
       "\n",
       "    .dataframe tbody tr th {\n",
       "        vertical-align: top;\n",
       "    }\n",
       "\n",
       "    .dataframe thead th {\n",
       "        text-align: right;\n",
       "    }\n",
       "</style>\n",
       "<table border=\"1\" class=\"dataframe\">\n",
       "  <thead>\n",
       "    <tr style=\"text-align: right;\">\n",
       "      <th></th>\n",
       "      <th>Mínimo</th>\n",
       "      <th>Máximo</th>\n",
       "      <th>Somatória</th>\n",
       "    </tr>\n",
       "    <tr>\n",
       "      <th>Bairro</th>\n",
       "      <th></th>\n",
       "      <th></th>\n",
       "      <th></th>\n",
       "    </tr>\n",
       "  </thead>\n",
       "  <tbody>\n",
       "    <tr>\n",
       "      <th>Barra da Tijuca</th>\n",
       "      <td>100.0</td>\n",
       "      <td>738197.0</td>\n",
       "      <td>56426579.0</td>\n",
       "    </tr>\n",
       "    <tr>\n",
       "      <th>Centro</th>\n",
       "      <td>90.0</td>\n",
       "      <td>950000.0</td>\n",
       "      <td>61918200.0</td>\n",
       "    </tr>\n",
       "    <tr>\n",
       "      <th>Copacabana</th>\n",
       "      <td>100.0</td>\n",
       "      <td>198000.0</td>\n",
       "      <td>14363823.0</td>\n",
       "    </tr>\n",
       "    <tr>\n",
       "      <th>Higienópolis</th>\n",
       "      <td>650.0</td>\n",
       "      <td>20000.0</td>\n",
       "      <td>80800.0</td>\n",
       "    </tr>\n",
       "    <tr>\n",
       "      <th>Jardim Botânico</th>\n",
       "      <td>1100.0</td>\n",
       "      <td>120000.0</td>\n",
       "      <td>3072930.0</td>\n",
       "    </tr>\n",
       "  </tbody>\n",
       "</table>\n",
       "</div>"
      ],
      "text/plain": [
       "                 Mínimo    Máximo   Somatória\n",
       "Bairro                                       \n",
       "Barra da Tijuca   100.0  738197.0  56426579.0\n",
       "Centro             90.0  950000.0  61918200.0\n",
       "Copacabana        100.0  198000.0  14363823.0\n",
       "Higienópolis      650.0   20000.0     80800.0\n",
       "Jardim Botânico  1100.0  120000.0   3072930.0"
      ]
     },
     "execution_count": 78,
     "metadata": {},
     "output_type": "execute_result"
    }
   ],
   "source": [
    "grupo_bairro['Valor'].aggregate(['min', 'max', 'sum']).rename(columns = {'min': 'Mínimo', 'max': 'Máximo', 'sum': 'Somatória'})"
   ]
  },
  {
   "cell_type": "code",
   "execution_count": 79,
   "id": "214f0d3f",
   "metadata": {},
   "outputs": [],
   "source": [
    "%matplotlib inline\n",
    "import matplotlib.pyplot as plt\n",
    "plt.rc('figure', figsize = (20, 10))"
   ]
  },
  {
   "cell_type": "code",
   "execution_count": 80,
   "id": "dcc3ec54",
   "metadata": {},
   "outputs": [
    {
     "data": {
      "text/plain": [
       "<AxesSubplot:xlabel='Bairro'>"
      ]
     },
     "execution_count": 80,
     "metadata": {},
     "output_type": "execute_result"
    },
    {
     "data": {
      "image/png": "[encoded data removed]",
      "text/plain": [
       "<Figure size 2000x1000 with 1 Axes>"
      ]
     },
     "metadata": {},
     "output_type": "display_data"
    }
   ],
   "source": [
    "grupo_bairro['Valor'].std().plot.bar(color = 'blue')"
   ]
  },
  {
   "cell_type": "code",
   "execution_count": 81,
   "id": "447189b1",
   "metadata": {},
   "outputs": [
    {
     "data": {
      "text/plain": [
       "Text(0.5, 1.0, 'Valor Médio do Aluguel do Bairro')"
      ]
     },
     "execution_count": 81,
     "metadata": {},
     "output_type": "execute_result"
    },
    {
     "data": {
      "image/png": "[encoded data removed]",
      "text/plain": [
       "<Figure size 2000x1000 with 1 Axes>"
      ]
     },
     "metadata": {},
     "output_type": "display_data"
    }
   ],
   "source": [
    "fig = grupo_bairro['Valor'].mean().plot.bar(color = 'blue')\n",
    "fig.set_ylabel('Valor do Aluguel')\n",
    "fig.set_title('Valor Médio do Aluguel do Bairro', {'fontsize': 22})"
   ]
  },
  {
   "cell_type": "code",
   "execution_count": 82,
   "id": "d863bc79",
   "metadata": {},
   "outputs": [
    {
     "data": {
      "text/plain": [
       "Text(0.5, 1.0, 'Valor Médio do Aluguel do Bairro')"
      ]
     },
     "execution_count": 82,
     "metadata": {},
     "output_type": "execute_result"
    },
    {
     "data": {
      "image/png": "[encoded data removed]",
      "text/plain": [
       "<Figure size 2000x1000 with 1 Axes>"
      ]
     },
     "metadata": {},
     "output_type": "display_data"
    }
   ],
   "source": [
    "fig = grupo_bairro['Valor'].max().plot.bar(color = 'blue')\n",
    "fig.set_ylabel('Valor do Aluguel')\n",
    "fig.set_title('Valor Médio do Aluguel do Bairro', {'fontsize': 22})"
   ]
  },
  {
   "cell_type": "code",
   "execution_count": null,
   "id": "8becd746",
   "metadata": {},
   "outputs": [],
   "source": []
  }
 ],
 "metadata": {
  "kernelspec": {
   "display_name": "Python 3 (ipykernel)",
   "language": "python",
   "name": "python3"
  },
  "language_info": {
   "codemirror_mode": {
    "name": "ipython",
    "version": 3
   },
   "file_extension": ".py",
   "mimetype": "text/x-python",
   "name": "python",
   "nbconvert_exporter": "python",
   "pygments_lexer": "ipython3",
   "version": "3.9.13"
  }
 },
 "nbformat": 4,
 "nbformat_minor": 5
}
